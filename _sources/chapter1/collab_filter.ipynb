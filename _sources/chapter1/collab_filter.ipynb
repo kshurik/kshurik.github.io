{
 "cells": [
  {
   "cell_type": "markdown",
   "id": "2d532195",
   "metadata": {},
   "source": [
    "(chapter1_part5)=\n",
    "\n",
    "# Collaborative Filtering\n",
    "\n",
    "Collaborative filtering is a powerful method for recommendation systems used to predict user preferences or\n",
    "interests. It is based on the notion that people who have similar tastes and preferences in one domain are likely\n",
    "to have similar tastes and preferences in a different domain. The collaborative filtering technique seeks to identify\n",
    "users who have similar tastes and preferences, based on their past interactions, and then use those users'\n",
    "interactions of items to predict relevance of similar items for the user. The goal of collaborative filtering is\n",
    "to use the opinions of other people to make predictions about a user’s preferences and interests.\n",
    "This is done by finding users who have similar tastes and preferences as the user in question, and then using\n",
    "those users’ ratings of items to make predictions about how the user would rate the same items.\n",
    "There are two main approaches to collaborative filtering: memory-based and model-based. \n",
    "\n",
    "## Memory-based Collaborative Filtering\n",
    "Memory-based collaborative filtering, also known as neighborhood-based collaborative filtering, is an approach\n",
    "that relies on finding similar users or items based on their behavior or preferences. The basic idea is to use\n",
    "the ratings or interactions of users with items to identify other users who have similar tastes, and then use\n",
    "the ratings of those similar users to make recommendations to a target user. One common approach in memory-based\n",
    "collaborative filtering is user-based collaborative filtering. In this approach, the similarity between users is\n",
    "calculated based on their ratings for items. A similarity metric such as the cosine similarity or Pearson correlation\n",
    "coefficient is often used to measure the similarity between two users. The similarity scores are then used to\n",
    "identify the most similar users to the target user. Once the most similar users are identified, their ratings\n",
    "for items are used to generate recommendations for the target user. Item-based collaborative filtering is another\n",
    "common approach in memory-based collaborative filtering. In this approach, the similarity between items is calculated\n",
    "based on the ratings of users who have rated both items. The similarity scores are then used to identify items that\n",
    "are similar to the items that the target user has already rated highly. Once the similar items are identified,\n",
    "they are recommended to the target user. One advantage of memory-based collaborative filtering is that it is easy\n",
    "to implement and interpret. The algorithm is relatively simple and does not require a lot of computational resources.\n",
    "Additionally, memory-based collaborative filtering can be effective when there is a lot of data available and the\n",
    "user-item matrix is sparse. However, memory-based collaborative filtering also has several disadvantages.\n",
    "One major limitation is that it is prone to the cold-start problem, which occurs when there is not enough data\n",
    "available to identify similar users or items. Additionally, memory-based collaborative filtering can be\n",
    "computationally expensive when there are a large number of users or items.\n",
    "\n",
    "Let's consider an example with Pearson Correlation\n",
    "Say, we have a dataset that contains the ratings of four users on five movies. The data looks like this:\n",
    "\n",
    "|         | User A | User B | User C | User D |\n",
    "|-------- | -------- | ------- | ------- | -------- |\n",
    "|Movie 1 | 5 | 4 | 2 | 3 | \n",
    "|Movie 2 | 3 | 3 | 4 | 4 | \n",
    "|Movie 3 | 4 | 4 | 5 | 5 |\n",
    "|Movie 4 | 1 | 2 | 1 | 2 |\n",
    "|Movie 5 | 2 | 1 | 3 | 3 |\n",
    "\n",
    "\n",
    "To apply collaborative filtering, we can compute the similarity between each pair of users based on their \n",
    "ratings. The similarity is calculated using the Pearson Correlation Coefficient (PCC). The PCC is a measure\n",
    "of how well two sets of data are correlated, and it ranges from -1 (perfectly negatively correlated) to +1\n",
    "(perfectly positively correlated). For example, let’s assume that we want to find the similarity between\n",
    "User A and User B. The PCC is calculated by taking the average of the product of the ratings for each movie.\n",
    "So, let's get PCC for User A and User B:"
   ]
  },
  {
   "cell_type": "code",
   "execution_count": 1,
   "id": "b400602b",
   "metadata": {},
   "outputs": [
    {
     "name": "stdout",
     "output_type": "stream",
     "text": [
      "Pearson Correlation for user A and B is: 0.8488746876271654\n"
     ]
    }
   ],
   "source": [
    "import numpy as np\n",
    "\n",
    "user_a = [5, 3, 4, 1, 2]\n",
    "user_b = [4, 3, 4, 2, 1]\n",
    "\n",
    "print(f'Pearson Correlation for user A and B is: {np.corrcoef(user_a, user_b)[0, 1]}')"
   ]
  },
  {
   "cell_type": "markdown",
   "id": "08e326dc",
   "metadata": {},
   "source": [
    "It indicates that `User A` and `User B` have a strong positive correlation in their ratings.\n",
    "To find recommendations for `User A`, we can first identify the users who are most similar to `User A`.\n",
    "In this example, that would be `User B` and `User C` (check it out by calculating other pairs).\n",
    "Next, we can take the weighted average of the ratings from those users for the movies that `User A`\n",
    "has not yet rated. For example, let’s assume that `User A` has not yet rated Movie 4. We can then take\n",
    "the weighted average of the ratings for Movie 4 from `User B` and `User C`.  `User B` rated Movie 4 a 2,\n",
    "and `User C` rated it a 1. We can then take the weighted average of those ratings, giving more weight \n",
    "to `User B` since they are more similar to `User A`. In this case, the weighted average would be around 2.\n",
    "Therefore, based on the ratings from other users, it is likely that `User A` would rate Movie 4 a 2.\n",
    "\n",
    "To wrap up, we can say that memory-based collaborative filtering as about calculating similarity\n",
    "between rows or columns of interaction matrix. In our example, we took columns a.k.a user similarities\n",
    "while we could take item-item similarities and use as recommendation.\n",
    "\n",
    "\n",
    "## Model-based Collaborative Filtering\n",
    "Model-based collaborative filtering is an approach that uses machine learning algorithms to learn a model from \n",
    "the ratings or interactions of users with items. The model is then used to make predictions about the relevance of\n",
    "users for items that they have not yet interacted with. One common approach in model-based collaborative filtering\n",
    "is matrix factorization. In this approach, the user-item matrix is decomposed into two lower-dimensional matrices:\n",
    "a user matrix and an item matrix. The user matrix represents the latent preferences of users, and the item matrix\n",
    "represents the latent attributes of items. The dot product of the user and item matrices gives the predicted relevance\n",
    "for a user-item pair. Matrix factorization is typically performed using a technique called Singular Value Decomposition (SVD).\n",
    "The example of how it is computed is showed below. Basically, we have interactions data where rows represent\n",
    "users and columns their ratings/other interactions. Based on thatm we have find such matrices that would approximate\n",
    "this relationship from our interactions data. It worth mentioning, that by SVD we only try to approximate rather\n",
    "than being able to restore interactions matrix fully. Thus, we take *k* biggest singular values from sigma (middle) matrix\n",
    "\n",
    "![](img/svd_example.png)\n",
    "*Toy example with SVD decomposition*\n",
    "\n",
    "Also, there are some peculiarities with SVD:\n",
    "- It is not that good to predict values to rank (if we consider as regression problem)\n",
    "- Quite good for generation of top-N candidates for further reranking:\n",
    "classically, for user and item embeddings we calcualte dot product and choose top-N by its value.\n",
    "However, SVD is computationally expensive and may not scale well to large datasets.\n",
    "Therefore, alternative techniques such as Alternating Least Squares (ALS) or modification for\n",
    "implicit target iALS, Stochastic Gradient Descent (SGD) are often used. Another common approach\n",
    "in model-based collaborative filtering is deep learning. In this approach, a neural network\n",
    "is used to learn a representation of users and items. The network takes as input the ratings\n",
    "or interactions of users with items and outputs a prediction of the rating for a user-item pair.\n",
    "Deep learning has the advantage of being able to capture complex patterns in the data and can be used\n",
    "to learn non-linear relationships between users and items. One of the popular examples is Extreeme Deep Factorization machines (xDeepFM).\n",
    "One advantage of model-based collaborative filtering is that it can handle the cold-start problem by using the\n",
    "learned model to make predictions about items that have not yet been rated by users. Additionally, model-based\n",
    "collaborative filtering can be more accurate than memory-based collaborative filtering, especially when there are\n",
    "a large number of users and items. Obviously, if we have enough data we can generate more accurate predictions minimizing our loss function\n",
    "However, model-based collaborative filtering also has some disadvantages. One major limitation is that it can be\n",
    "difficult to interpret the learned model and understand why certain recommendations are being made. Additionally,\n",
    "model-based collaborative filtering can be computationally expensive and may require a lot  of computational resources,\n",
    "especially when using deep learning techniques. Another disadvantage of model-based collaborative filtering is that it\n",
    "requires a large amount of data to train the model effectively. This can be a challenge in some domains, where there\n",
    "may be a limited amount of data available. In these cases, memory-based collaborative filtering may be a better choice.\n",
    "However, there are several methods are available in python for faster computations. Below, you can see several libraries\n",
    "that deal with SVD"
   ]
  },
  {
   "cell_type": "code",
   "execution_count": 2,
   "id": "b54e1444",
   "metadata": {},
   "outputs": [],
   "source": [
    "from scipy.sparse.linalg import svds\n",
    "from sklearn.utils.extmath import randomized_svd\n",
    "from sklearn.decomposition import TruncatedSVD"
   ]
  },
  {
   "cell_type": "markdown",
   "id": "e6ad3548",
   "metadata": {},
   "source": [
    "## Other Python Implementations\n",
    "To conclude, I want to mention several methods to implementations before focusing on target `lightfm` library.\n",
    "One of the most popular is `implicit` that allows to build models based on implicit targets. In addition,\n",
    "it has several frequently used models:\n",
    "- Item-to-Item KNN. Sometimes it is hard to generate recommendations based on users interaction due to dynamic\n",
    "nature of their data (good real-time / near real-time data and model update is required). Thus, this method\n",
    "is a good kick-off point for candidates generation. KNN does not make any assumptions on the\n",
    "underlying data distribution but it relies on item feature similarity;\n",
    "- Logistic matrix factorization. It resembles classic logit model where collaborative filtering recommender try to\n",
    "learn probabilistic distribution whether user like recommendation;\n",
    "- implicit ALS. It is used when the amount of data is quite big and provides good performance by reducing\n",
    "the impact of missing data using confidence and preference metrics;\n",
    "- Bayesian Personalized Ranking. Its optimizitation relies on instance level - one item instead of item pairs. The\n",
    "primary goal of the method is to provide personalized list of recommendations directly\n",
    "\n",
    "Another one is the library we are going to use in the tutorial is `ligthfm`. The main idea of the method\n",
    "is to generate feature vectors for both users and items by aggregating the values of features. The method assumes\n",
    "that the final `user embedding vector` is the sum of each of the user’s relevant side information\n",
    "vectors (which we called user features) and similarly `item embedding vector` is created.\n",
    "It is quite fast as developed in Cython. The model has several losses and optimizes parameters using Stochastic\n",
    "Gradient Descent (SGD) with options `adagrad` or `adadelta` - great explanation\n",
    "of the method can be found [here](https://code.themlsbook.com/chapter3/gradient_descent.html). The losses are:\n",
    "- Logistc;\n",
    "- Bayesian Personalized Ranking;\n",
    "- Weighted Approximate-Rank Pairwise (WARP);\n",
    "- k-os WARP\n",
    "\n",
    "Now, let's move on to python implementation\n",
    "### 0. Configuration"
   ]
  },
  {
   "cell_type": "code",
   "execution_count": 3,
   "id": "84fd752a",
   "metadata": {},
   "outputs": [],
   "source": [
    "# links to shared data MovieLens\n",
    "# source on kaggle: https://www.kaggle.com/code/quangnhatbui/movie-recommender/data\n",
    "RATINGS_SMALL_URL = 'https://drive.google.com/file/d/1BlZfCLLs5A13tbNSJZ1GPkHLWQOnPlE4/view?usp=share_link'\n",
    "MOVIES_METADATA_URL = 'https://drive.google.com/file/d/19g6-apYbZb5D-wRj4L7aYKhxS-fDM4Fb/view?usp=share_link'"
   ]
  },
  {
   "cell_type": "markdown",
   "id": "6a6b2376",
   "metadata": {},
   "source": [
    "### 1. Modules and functions"
   ]
  },
  {
   "cell_type": "code",
   "execution_count": 4,
   "id": "6d2716f8",
   "metadata": {},
   "outputs": [
    {
     "ename": "ModuleNotFoundError",
     "evalue": "No module named 'lightfm'",
     "output_type": "error",
     "traceback": [
      "\u001b[0;31m---------------------------------------------------------------------------\u001b[0m",
      "\u001b[0;31mModuleNotFoundError\u001b[0m                       Traceback (most recent call last)",
      "Cell \u001b[0;32mIn[4], line 10\u001b[0m\n\u001b[1;32m      6\u001b[0m \u001b[38;5;28;01mimport\u001b[39;00m \u001b[38;5;21;01mpandas\u001b[39;00m \u001b[38;5;28;01mas\u001b[39;00m \u001b[38;5;21;01mpd\u001b[39;00m\n\u001b[1;32m      8\u001b[0m \u001b[38;5;28;01mfrom\u001b[39;00m \u001b[38;5;21;01mitertools\u001b[39;00m \u001b[38;5;28;01mimport\u001b[39;00m islice, cycle, product\n\u001b[0;32m---> 10\u001b[0m \u001b[38;5;28;01mfrom\u001b[39;00m \u001b[38;5;21;01mlightfm\u001b[39;00m\u001b[38;5;21;01m.\u001b[39;00m\u001b[38;5;21;01mdata\u001b[39;00m \u001b[38;5;28;01mimport\u001b[39;00m Dataset\n\u001b[1;32m     11\u001b[0m \u001b[38;5;28;01mfrom\u001b[39;00m \u001b[38;5;21;01mlightfm\u001b[39;00m \u001b[38;5;28;01mimport\u001b[39;00m LightFM\n\u001b[1;32m     13\u001b[0m \u001b[38;5;28;01mfrom\u001b[39;00m \u001b[38;5;21;01mtqdm\u001b[39;00m \u001b[38;5;28;01mimport\u001b[39;00m tqdm_notebook\n",
      "\u001b[0;31mModuleNotFoundError\u001b[0m: No module named 'lightfm'"
     ]
    }
   ],
   "source": [
    "# just to make it available to download w/o SSL verification\n",
    "import ssl\n",
    "ssl._create_default_https_context = ssl._create_unverified_context\n",
    "\n",
    "import numpy as np\n",
    "import pandas as pd\n",
    "\n",
    "from itertools import islice, cycle, product\n",
    "\n",
    "from lightfm.data import Dataset\n",
    "from lightfm import LightFM\n",
    "\n",
    "from tqdm import tqdm_notebook\n",
    "import warnings\n",
    "warnings.filterwarnings('ignore')"
   ]
  },
  {
   "cell_type": "markdown",
   "id": "04a29f20",
   "metadata": {},
   "source": [
    "#### 1. 1. Helper functions to avoid copy paste"
   ]
  },
  {
   "cell_type": "code",
   "execution_count": null,
   "id": "78b5ffc5",
   "metadata": {},
   "outputs": [],
   "source": [
    "def read_csv_from_gdrive(url):\n",
    "    \"\"\"\n",
    "    gets csv data from a given url (taken from file -> share -> copy link)\n",
    "    :url: example https://drive.google.com/file/d/1BlZfCLLs5A13tbNSJZ1GPkHLWQOnPlE4/view?usp=share_link\n",
    "    \"\"\"\n",
    "    file_id = url.split('/')[-2]\n",
    "    file_path = 'https://drive.google.com/uc?export=download&id=' + file_id\n",
    "    data = pd.read_csv(file_path)\n",
    "\n",
    "    return data"
   ]
  },
  {
   "cell_type": "markdown",
   "id": "fea601ef",
   "metadata": {},
   "source": [
    "### 2. Main\n",
    "#### 2.1. Load Data\n",
    "`interactions` dataset shows list of movies that users watched, along with given ratings:"
   ]
  },
  {
   "cell_type": "code",
   "execution_count": null,
   "id": "d263d9cb",
   "metadata": {},
   "outputs": [],
   "source": [
    "# interactions data\n",
    "interactions = read_csv_from_gdrive(RATINGS_SMALL_URL)\n",
    "interactions.head()"
   ]
  },
  {
   "cell_type": "markdown",
   "id": "1931eeed",
   "metadata": {},
   "source": [
    "`movies_metadata` dataset shows the list of movies existing on OKKO platform:"
   ]
  },
  {
   "cell_type": "code",
   "execution_count": null,
   "id": "40dcbfc3",
   "metadata": {},
   "outputs": [],
   "source": [
    "# information about films etc\n",
    "movies_metadata = read_csv_from_gdrive(MOVIES_METADATA_URL)\n",
    "movies_metadata.head(3)"
   ]
  },
  {
   "cell_type": "code",
   "execution_count": null,
   "id": "d9b3a3b6",
   "metadata": {},
   "outputs": [],
   "source": [
    "# convert to the same data type ids to filter\n",
    "movies_metadata['id'] = movies_metadata['id'].astype(str)\n",
    "interactions['movieId'] = interactions['movieId'].astype(str)"
   ]
  },
  {
   "cell_type": "markdown",
   "id": "2ae3dbfd",
   "metadata": {},
   "source": [
    "Filter only intersection of available movies in both datasets"
   ]
  },
  {
   "cell_type": "code",
   "execution_count": null,
   "id": "10c9cdc6",
   "metadata": {},
   "outputs": [],
   "source": [
    "# leave only those films that intersect with each other\n",
    "interactions_filtered = interactions.loc[interactions['movieId'].isin(movies_metadata['id'])]\n",
    "print(interactions.shape, interactions_filtered.shape)"
   ]
  },
  {
   "cell_type": "code",
   "execution_count": null,
   "id": "a3dd6b96",
   "metadata": {},
   "outputs": [],
   "source": []
  },
  {
   "cell_type": "markdown",
   "id": "4159f219",
   "metadata": {},
   "source": [
    "#### 2.2 Data preparation using LightFM Dataset\n",
    "To use this class we need the in the following format:\n",
    "- userId\n",
    "- movieId\n",
    "- user_features - user feature names\n",
    "- item_features - item feature names\n",
    "\n",
    "It has several methods:\n",
    "- build_interactions - definition of user / item interactions matrix using iterators on top of tuples:\n",
    "1. (userId, movieId);\n",
    "2. (userId, movieId, weight / rating)\n",
    "- build_user_features/build_item_features - defition of user/item features using iterators on top of tuples:\n",
    "1. (userId, [user_feature_name1, user_feature_name2, ...]);\n",
    "2. (userId, {user_feature_name1: weight});\n",
    "3. The same goes for item features"
   ]
  },
  {
   "cell_type": "code",
   "execution_count": null,
   "id": "70363a70",
   "metadata": {},
   "outputs": [],
   "source": [
    "# init class\n",
    "dataset = Dataset()"
   ]
  },
  {
   "cell_type": "code",
   "execution_count": null,
   "id": "c091974c",
   "metadata": {},
   "outputs": [],
   "source": [
    "# fit tuple of user and movie interactions\n",
    "dataset.fit(interactions['userId'].unique(), interactions['movieId'].unique())"
   ]
  },
  {
   "cell_type": "markdown",
   "id": "5fb1b566",
   "metadata": {},
   "source": [
    "We do not have users data in MovieLens dataset so let's skip part features generation, but in HW you will have to\n",
    "add movies' features"
   ]
  },
  {
   "cell_type": "code",
   "execution_count": null,
   "id": "a67e5f00",
   "metadata": {},
   "outputs": [],
   "source": [
    "# now, we define lightfm mapper to use it later for checks\n",
    "lightfm_mapping = dataset.mapping()\n",
    "# lightfm_mapping"
   ]
  },
  {
   "cell_type": "markdown",
   "id": "07037e6c",
   "metadata": {},
   "source": [
    "Here, we just create a convenient dict to use further in evaluation"
   ]
  },
  {
   "cell_type": "code",
   "execution_count": null,
   "id": "1ca94a32",
   "metadata": {},
   "outputs": [],
   "source": [
    "lightfm_mapping = {\n",
    "    'users_mapping': lightfm_mapping[0],\n",
    "    'user_features_mapping': lightfm_mapping[1],\n",
    "    'items_mapping': lightfm_mapping[2],\n",
    "    'item_features_mapping': lightfm_mapping[3],\n",
    "}\n",
    "print('user mapper length - ', len(lightfm_mapping['users_mapping']))\n",
    "print('user features mapper length - ', len(lightfm_mapping['user_features_mapping']))\n",
    "print('movies mapper length - ', len(lightfm_mapping['items_mapping']))\n",
    "print('Users movie features mapper length - ', len(lightfm_mapping['item_features_mapping']))"
   ]
  },
  {
   "cell_type": "markdown",
   "id": "691a2587",
   "metadata": {},
   "source": [
    "As we do not have user / movie features their length coincide with unique number of observations"
   ]
  },
  {
   "cell_type": "code",
   "execution_count": null,
   "id": "e7ceab64",
   "metadata": {},
   "outputs": [],
   "source": [
    "# here we create inverted mappers to check recommendations later\n",
    "lightfm_mapping['users_inv_mapping'] = {v: k for k, v in lightfm_mapping['users_mapping'].items()}\n",
    "lightfm_mapping['items_inv_mapping'] = {v: k for k, v in lightfm_mapping['items_mapping'].items()}"
   ]
  },
  {
   "cell_type": "markdown",
   "id": "135dbd84",
   "metadata": {},
   "source": [
    "As we mentioned earlier, we need to create iterators to use in building training dataset"
   ]
  },
  {
   "cell_type": "code",
   "execution_count": null,
   "id": "475183aa",
   "metadata": {},
   "outputs": [],
   "source": [
    "def df_to_tuple_iterator(df: pd.DataFrame):\n",
    "    '''\n",
    "    :df: pd.DataFrame, interactions dataframe\n",
    "    returs iterator\n",
    "    '''\n",
    "    return zip(*df.values.T)\n",
    "\n",
    "def concat_last_to_list(t):\n",
    "    return (t[0], list(t[1:])[0])\n",
    "\n",
    "def df_to_tuple_list_iterator(df):\n",
    "    return map(concat_last_to_list, zip(*df.values.T))"
   ]
  },
  {
   "cell_type": "code",
   "execution_count": null,
   "id": "021e6185",
   "metadata": {},
   "outputs": [],
   "source": [
    "# defining train set on the whole interactions dataset (as HW you will have to split into test and train for evaluation)\n",
    "train_mat, train_mat_weights = dataset.build_interactions(df_to_tuple_iterator(interactions_filtered[['userId', 'movieId']]))"
   ]
  },
  {
   "cell_type": "code",
   "execution_count": null,
   "id": "47258ca4",
   "metadata": {},
   "outputs": [],
   "source": [
    "train_mat"
   ]
  },
  {
   "cell_type": "code",
   "execution_count": null,
   "id": "bd75c3e7",
   "metadata": {},
   "outputs": [],
   "source": [
    "train_mat_weights"
   ]
  },
  {
   "cell_type": "markdown",
   "id": "2d450a27",
   "metadata": {},
   "source": [
    "#### 2.3. Model Training & Evaluation\n",
    "##### 2.3.1. Train Model"
   ]
  },
  {
   "cell_type": "code",
   "execution_count": null,
   "id": "628d041e",
   "metadata": {},
   "outputs": [],
   "source": [
    "# set default params\n",
    "NO_COMPONENTS = 64\n",
    "LEARNING_RATE = .03\n",
    "LOSS = 'warp'\n",
    "MAX_SAMPLED = 5\n",
    "RANDOM_STATE = 42\n",
    "EPOCHS = 20"
   ]
  },
  {
   "cell_type": "code",
   "execution_count": null,
   "id": "87fcc94f",
   "metadata": {},
   "outputs": [],
   "source": [
    "# init model\n",
    "lfm_model = LightFM(\n",
    "    no_components = NO_COMPONENTS,\n",
    "    learning_rate = LEARNING_RATE,\n",
    "    loss = LOSS,\n",
    "    max_sampled = MAX_SAMPLED,\n",
    "    random_state = RANDOM_STATE\n",
    "    )"
   ]
  },
  {
   "cell_type": "code",
   "execution_count": null,
   "id": "651e99b0",
   "metadata": {},
   "outputs": [],
   "source": [
    "# execute training\n",
    "for _ in tqdm_notebook(range(EPOCHS), total = EPOCHS):\n",
    "    lfm_model.fit_partial(\n",
    "        train_mat, \n",
    "        num_threads = 4\n",
    "    )"
   ]
  },
  {
   "cell_type": "markdown",
   "id": "10167bac",
   "metadata": {},
   "source": [
    "##### 2.3.2. Evaluate the Model"
   ]
  },
  {
   "cell_type": "code",
   "execution_count": null,
   "id": "a34a4e34",
   "metadata": {},
   "outputs": [],
   "source": [
    "# let's make sense-check\n",
    "top_N = 10\n",
    "user_id = interactions['userId'][0]\n",
    "row_id = lightfm_mapping['users_mapping'][user_id]\n",
    "print(f'Rekko for user {user_id}, row number in matrix - {row_id}')"
   ]
  },
  {
   "cell_type": "code",
   "execution_count": null,
   "id": "25ca6de5",
   "metadata": {},
   "outputs": [],
   "source": [
    "all_cols = list(lightfm_mapping['items_mapping'].values())\n",
    "len(all_cols)"
   ]
  },
  {
   "cell_type": "code",
   "execution_count": null,
   "id": "88b9bdfb",
   "metadata": {},
   "outputs": [],
   "source": [
    "# get predictions\n",
    "pred = lfm_model.predict(\n",
    "    row_id,\n",
    "    all_cols,\n",
    "    num_threads = 4)\n",
    "pred, pred.shape"
   ]
  },
  {
   "cell_type": "markdown",
   "id": "d1b22d6e",
   "metadata": {},
   "source": [
    "Here, get indicices in matrix for top movie recommendations"
   ]
  },
  {
   "cell_type": "code",
   "execution_count": null,
   "id": "4eecaf5e",
   "metadata": {},
   "outputs": [],
   "source": [
    "top_cols = np.argpartition(pred, -np.arange(top_N))[-top_N:][::-1]\n",
    "top_cols"
   ]
  },
  {
   "cell_type": "markdown",
   "id": "2d11cd92",
   "metadata": {},
   "source": [
    "Next, we can look at their lfm scores"
   ]
  },
  {
   "cell_type": "code",
   "execution_count": null,
   "id": "9f8942fd",
   "metadata": {},
   "outputs": [],
   "source": [
    "pred[top_cols]"
   ]
  },
  {
   "cell_type": "markdown",
   "id": "79231866",
   "metadata": {},
   "source": [
    "Now, we move on to look at recommended movies for a given user"
   ]
  },
  {
   "cell_type": "code",
   "execution_count": null,
   "id": "236867f4",
   "metadata": {},
   "outputs": [],
   "source": [
    "# crate mapper for movieId and title names\n",
    "item_name_mapper = dict(zip(movies_metadata['id'], movies_metadata['original_title']))"
   ]
  },
  {
   "cell_type": "code",
   "execution_count": null,
   "id": "e0e31be3",
   "metadata": {},
   "outputs": [],
   "source": [
    "recs = pd.DataFrame({'col_id': top_cols})\n",
    "recs['movieId'] = recs['col_id'].map(lightfm_mapping['items_inv_mapping'].get).astype(str)\n",
    "recs['title'] = recs['movieId'].map(item_name_mapper)\n",
    "recs"
   ]
  },
  {
   "cell_type": "markdown",
   "id": "d84bff14",
   "metadata": {},
   "source": [
    "## Hybrid Approaches\n",
    "In practice, many recommender systems use a hybrid approach that combines both memory-based and model-based\n",
    "collaborative filtering. In a hybrid approach, the strengths of both approaches are leveraged to improve the\n",
    "accuracy and performance of the recommender system. One common approach in hybrid collaborative filtering is\n",
    "to use a memory-based approach to generate initial recommendations and then refine the recommendations using\n",
    "a model-based approach. This approach can be effective in situations where there is not enough data to train\n",
    "a model effectively but there is enough data to identify similar users or items using a memory-based approach.\n",
    "Another approach is to use a model-based approach to generate initial recommendations and then refine the\n",
    "recommendations using a memory-based approach. This approach can be effective in situations where the user-item\n",
    "matrix is very sparse and a model-based approach is needed to make accurate predictions."
   ]
  }
 ],
 "metadata": {
  "jupytext": {
   "formats": "md:myst",
   "text_representation": {
    "extension": ".md",
    "format_name": "myst"
   }
  },
  "kernelspec": {
   "display_name": "Python 3",
   "language": "python",
   "name": "python3"
  },
  "language_info": {
   "codemirror_mode": {
    "name": "ipython",
    "version": 3
   },
   "file_extension": ".py",
   "mimetype": "text/x-python",
   "name": "python",
   "nbconvert_exporter": "python",
   "pygments_lexer": "ipython3",
   "version": "3.9.16"
  },
  "source_map": [
   11,
   67,
   74,
   132,
   136,
   167,
   172,
   174,
   190,
   192,
   203,
   208,
   212,
   215,
   221,
   225,
   227,
   234,
   235,
   253,
   258,
   261,
   265,
   269,
   271,
   282,
   285,
   289,
   293,
   308,
   313,
   317,
   319,
   324,
   334,
   345,
   352,
   356,
   364,
   369,
   376,
   378,
   381,
   383,
   385,
   387,
   392,
   397
  ]
 },
 "nbformat": 4,
 "nbformat_minor": 5
}